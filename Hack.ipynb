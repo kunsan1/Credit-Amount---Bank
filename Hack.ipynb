{
 "cells": [
  {
   "cell_type": "code",
   "execution_count": 1,
   "id": "ef2137b9-14c1-4282-b054-7cf870a8546d",
   "metadata": {},
   "outputs": [],
   "source": [
    "import pandas as pd\n",
    "import numpy as np\n",
    "from sklearn.model_selection import train_test_split\n",
    "from sklearn.preprocessing import LabelEncoder, StandardScaler\n",
    "from sklearn.ensemble import RandomForestRegressor\n",
    "from sklearn.metrics import mean_squared_error\n",
    "import warnings\n",
    "warnings.filterwarnings(\"ignore\")\n",
    "import matplotlib.pyplot as plt"
   ]
  },
  {
   "cell_type": "markdown",
   "id": "4d16643e-1e8e-4150-8152-9527cee96e4a",
   "metadata": {
    "jp-MarkdownHeadingCollapsed": true
   },
   "source": [
    "## EDA"
   ]
  },
  {
   "cell_type": "code",
   "execution_count": 2,
   "id": "5e622282-66d3-40e0-beeb-3763be5f3443",
   "metadata": {},
   "outputs": [],
   "source": [
    "df = pd.read_csv('Train.csv')\n",
    "test = pd.read_csv('Test.csv')\n",
    "submission = pd.read_csv('sample_submission_.csv')"
   ]
  },
  {
   "cell_type": "code",
   "execution_count": 11,
   "id": "0598889a-8fe1-46da-b5ba-793e7baac09a",
   "metadata": {},
   "outputs": [
    {
     "data": {
      "text/html": [
       "<div>\n",
       "<style scoped>\n",
       "    .dataframe tbody tr th:only-of-type {\n",
       "        vertical-align: middle;\n",
       "    }\n",
       "\n",
       "    .dataframe tbody tr th {\n",
       "        vertical-align: top;\n",
       "    }\n",
       "\n",
       "    .dataframe thead th {\n",
       "        text-align: right;\n",
       "    }\n",
       "</style>\n",
       "<table border=\"1\" class=\"dataframe\">\n",
       "  <thead>\n",
       "    <tr style=\"text-align: right;\">\n",
       "      <th></th>\n",
       "      <th>account_info</th>\n",
       "      <th>duration_month</th>\n",
       "      <th>credit_history</th>\n",
       "      <th>purpose</th>\n",
       "      <th>credit_amount</th>\n",
       "      <th>savings_account</th>\n",
       "      <th>employment_st</th>\n",
       "      <th>poi</th>\n",
       "      <th>personal_status</th>\n",
       "      <th>gurantors</th>\n",
       "      <th>resident_since</th>\n",
       "      <th>property_type</th>\n",
       "      <th>age</th>\n",
       "      <th>installment_type</th>\n",
       "      <th>housing_type</th>\n",
       "      <th>credits_no</th>\n",
       "      <th>job_type</th>\n",
       "      <th>liables</th>\n",
       "      <th>telephone</th>\n",
       "      <th>foreigner</th>\n",
       "    </tr>\n",
       "  </thead>\n",
       "  <tbody>\n",
       "    <tr>\n",
       "      <th>0</th>\n",
       "      <td>&lt;0</td>\n",
       "      <td>6.0</td>\n",
       "      <td>A34</td>\n",
       "      <td>radio/TV</td>\n",
       "      <td>1169</td>\n",
       "      <td>unknown</td>\n",
       "      <td>A75</td>\n",
       "      <td>4</td>\n",
       "      <td>A93</td>\n",
       "      <td>A101</td>\n",
       "      <td>4.0</td>\n",
       "      <td>A121</td>\n",
       "      <td>67.0</td>\n",
       "      <td>A143</td>\n",
       "      <td>A152</td>\n",
       "      <td>2</td>\n",
       "      <td>A173</td>\n",
       "      <td>1</td>\n",
       "      <td>yes</td>\n",
       "      <td>foreigner</td>\n",
       "    </tr>\n",
       "    <tr>\n",
       "      <th>1</th>\n",
       "      <td>0-199</td>\n",
       "      <td>48.0</td>\n",
       "      <td>A32</td>\n",
       "      <td>radio/TV</td>\n",
       "      <td>5951</td>\n",
       "      <td>&lt;100</td>\n",
       "      <td>A73</td>\n",
       "      <td>2</td>\n",
       "      <td>A92</td>\n",
       "      <td>A101</td>\n",
       "      <td>2.0</td>\n",
       "      <td>A121</td>\n",
       "      <td>22.0</td>\n",
       "      <td>A143</td>\n",
       "      <td>A152</td>\n",
       "      <td>1</td>\n",
       "      <td>A173</td>\n",
       "      <td>1</td>\n",
       "      <td>no</td>\n",
       "      <td>foreigner</td>\n",
       "    </tr>\n",
       "    <tr>\n",
       "      <th>2</th>\n",
       "      <td>unknown</td>\n",
       "      <td>12.0</td>\n",
       "      <td>A34</td>\n",
       "      <td>education</td>\n",
       "      <td>2096</td>\n",
       "      <td>&lt;100</td>\n",
       "      <td>A74</td>\n",
       "      <td>2</td>\n",
       "      <td>A93</td>\n",
       "      <td>A101</td>\n",
       "      <td>3.0</td>\n",
       "      <td>A121</td>\n",
       "      <td>49.0</td>\n",
       "      <td>A143</td>\n",
       "      <td>A152</td>\n",
       "      <td>1</td>\n",
       "      <td>A172</td>\n",
       "      <td>2</td>\n",
       "      <td>no</td>\n",
       "      <td>foreigner</td>\n",
       "    </tr>\n",
       "    <tr>\n",
       "      <th>3</th>\n",
       "      <td>&lt;0</td>\n",
       "      <td>42.0</td>\n",
       "      <td>A32</td>\n",
       "      <td>furniture/equipment</td>\n",
       "      <td>7882</td>\n",
       "      <td>&lt;100</td>\n",
       "      <td>A74</td>\n",
       "      <td>2</td>\n",
       "      <td>A93</td>\n",
       "      <td>A103</td>\n",
       "      <td>4.0</td>\n",
       "      <td>A122</td>\n",
       "      <td>45.0</td>\n",
       "      <td>A143</td>\n",
       "      <td>A153</td>\n",
       "      <td>1</td>\n",
       "      <td>A173</td>\n",
       "      <td>2</td>\n",
       "      <td>no</td>\n",
       "      <td>foreigner</td>\n",
       "    </tr>\n",
       "    <tr>\n",
       "      <th>4</th>\n",
       "      <td>&lt;0</td>\n",
       "      <td>24.0</td>\n",
       "      <td>A33</td>\n",
       "      <td>new_car</td>\n",
       "      <td>4870</td>\n",
       "      <td>&lt;100</td>\n",
       "      <td>A73</td>\n",
       "      <td>3</td>\n",
       "      <td>A93</td>\n",
       "      <td>A101</td>\n",
       "      <td>4.0</td>\n",
       "      <td>A124</td>\n",
       "      <td>53.0</td>\n",
       "      <td>A143</td>\n",
       "      <td>A153</td>\n",
       "      <td>2</td>\n",
       "      <td>A173</td>\n",
       "      <td>2</td>\n",
       "      <td>no</td>\n",
       "      <td>foreigner</td>\n",
       "    </tr>\n",
       "  </tbody>\n",
       "</table>\n",
       "</div>"
      ],
      "text/plain": [
       "  account_info  duration_month credit_history              purpose  \\\n",
       "0           <0             6.0            A34             radio/TV   \n",
       "1        0-199            48.0            A32             radio/TV   \n",
       "2      unknown            12.0            A34            education   \n",
       "3           <0            42.0            A32  furniture/equipment   \n",
       "4           <0            24.0            A33              new_car   \n",
       "\n",
       "   credit_amount savings_account employment_st  poi personal_status gurantors  \\\n",
       "0           1169         unknown           A75    4             A93      A101   \n",
       "1           5951            <100           A73    2             A92      A101   \n",
       "2           2096            <100           A74    2             A93      A101   \n",
       "3           7882            <100           A74    2             A93      A103   \n",
       "4           4870            <100           A73    3             A93      A101   \n",
       "\n",
       "   resident_since property_type   age installment_type housing_type  \\\n",
       "0             4.0          A121  67.0             A143         A152   \n",
       "1             2.0          A121  22.0             A143         A152   \n",
       "2             3.0          A121  49.0             A143         A152   \n",
       "3             4.0          A122  45.0             A143         A153   \n",
       "4             4.0          A124  53.0             A143         A153   \n",
       "\n",
       "   credits_no job_type  liables telephone  foreigner  \n",
       "0           2     A173        1       yes  foreigner  \n",
       "1           1     A173        1        no  foreigner  \n",
       "2           1     A172        2        no  foreigner  \n",
       "3           1     A173        2        no  foreigner  \n",
       "4           2     A173        2        no  foreigner  "
      ]
     },
     "execution_count": 11,
     "metadata": {},
     "output_type": "execute_result"
    }
   ],
   "source": [
    "df.head()"
   ]
  },
  {
   "cell_type": "code",
   "execution_count": 4,
   "id": "63534618-7685-4de8-802d-8df235eecca5",
   "metadata": {},
   "outputs": [
    {
     "data": {
      "text/html": [
       "<div>\n",
       "<style scoped>\n",
       "    .dataframe tbody tr th:only-of-type {\n",
       "        vertical-align: middle;\n",
       "    }\n",
       "\n",
       "    .dataframe tbody tr th {\n",
       "        vertical-align: top;\n",
       "    }\n",
       "\n",
       "    .dataframe thead th {\n",
       "        text-align: right;\n",
       "    }\n",
       "</style>\n",
       "<table border=\"1\" class=\"dataframe\">\n",
       "  <thead>\n",
       "    <tr style=\"text-align: right;\">\n",
       "      <th></th>\n",
       "      <th>serial number</th>\n",
       "      <th>account_info</th>\n",
       "      <th>duration_month</th>\n",
       "      <th>credit_history</th>\n",
       "      <th>purpose</th>\n",
       "      <th>savings_account</th>\n",
       "      <th>employment_st</th>\n",
       "      <th>poi</th>\n",
       "      <th>personal_status</th>\n",
       "      <th>gurantors</th>\n",
       "      <th>resident_since</th>\n",
       "      <th>property_type</th>\n",
       "      <th>age</th>\n",
       "      <th>installment_type</th>\n",
       "      <th>housing_type</th>\n",
       "      <th>credits_no</th>\n",
       "      <th>job_type</th>\n",
       "      <th>liables</th>\n",
       "      <th>telephone</th>\n",
       "      <th>foreigner</th>\n",
       "    </tr>\n",
       "  </thead>\n",
       "  <tbody>\n",
       "    <tr>\n",
       "      <th>0</th>\n",
       "      <td>1</td>\n",
       "      <td>unknown</td>\n",
       "      <td>24.0</td>\n",
       "      <td>A34</td>\n",
       "      <td>education</td>\n",
       "      <td>&lt;100</td>\n",
       "      <td>A75</td>\n",
       "      <td>4</td>\n",
       "      <td>A93</td>\n",
       "      <td>A101</td>\n",
       "      <td>4.0</td>\n",
       "      <td>A124</td>\n",
       "      <td>54.0</td>\n",
       "      <td>A143</td>\n",
       "      <td>A153</td>\n",
       "      <td>2</td>\n",
       "      <td>A173</td>\n",
       "      <td>2</td>\n",
       "      <td>no</td>\n",
       "      <td>foreigner</td>\n",
       "    </tr>\n",
       "    <tr>\n",
       "      <th>1</th>\n",
       "      <td>2</td>\n",
       "      <td>0-199</td>\n",
       "      <td>18.0</td>\n",
       "      <td>A34</td>\n",
       "      <td>radio/TV</td>\n",
       "      <td>&lt;100</td>\n",
       "      <td>A75</td>\n",
       "      <td>3</td>\n",
       "      <td>A92</td>\n",
       "      <td>A103</td>\n",
       "      <td>4.0</td>\n",
       "      <td>A121</td>\n",
       "      <td>48.0</td>\n",
       "      <td>A141</td>\n",
       "      <td>A151</td>\n",
       "      <td>2</td>\n",
       "      <td>A172</td>\n",
       "      <td>1</td>\n",
       "      <td>yes</td>\n",
       "      <td>foreigner</td>\n",
       "    </tr>\n",
       "    <tr>\n",
       "      <th>2</th>\n",
       "      <td>3</td>\n",
       "      <td>&lt;0</td>\n",
       "      <td>NaN</td>\n",
       "      <td>A34</td>\n",
       "      <td>furniture/equipment</td>\n",
       "      <td>&lt;100</td>\n",
       "      <td>A75</td>\n",
       "      <td>1</td>\n",
       "      <td>A92</td>\n",
       "      <td>A101</td>\n",
       "      <td>4.0</td>\n",
       "      <td>A122</td>\n",
       "      <td>24.0</td>\n",
       "      <td>A143</td>\n",
       "      <td>A152</td>\n",
       "      <td>2</td>\n",
       "      <td>A173</td>\n",
       "      <td>1</td>\n",
       "      <td>no</td>\n",
       "      <td>foreigner</td>\n",
       "    </tr>\n",
       "    <tr>\n",
       "      <th>3</th>\n",
       "      <td>4</td>\n",
       "      <td>unknown</td>\n",
       "      <td>12.0</td>\n",
       "      <td>A34</td>\n",
       "      <td>radio/TV</td>\n",
       "      <td>unknown</td>\n",
       "      <td>A75</td>\n",
       "      <td>4</td>\n",
       "      <td>A93</td>\n",
       "      <td>A101</td>\n",
       "      <td>NaN</td>\n",
       "      <td>A123</td>\n",
       "      <td>35.0</td>\n",
       "      <td>A143</td>\n",
       "      <td>A152</td>\n",
       "      <td>2</td>\n",
       "      <td>A173</td>\n",
       "      <td>1</td>\n",
       "      <td>no</td>\n",
       "      <td>foreigner</td>\n",
       "    </tr>\n",
       "    <tr>\n",
       "      <th>4</th>\n",
       "      <td>5</td>\n",
       "      <td>0-199</td>\n",
       "      <td>12.0</td>\n",
       "      <td>A32</td>\n",
       "      <td>new_car</td>\n",
       "      <td>unknown</td>\n",
       "      <td>A71</td>\n",
       "      <td>1</td>\n",
       "      <td>A92</td>\n",
       "      <td>A101</td>\n",
       "      <td>2.0</td>\n",
       "      <td>A121</td>\n",
       "      <td>24.0</td>\n",
       "      <td>A143</td>\n",
       "      <td>A151</td>\n",
       "      <td>1</td>\n",
       "      <td>A171</td>\n",
       "      <td>1</td>\n",
       "      <td>no</td>\n",
       "      <td>foreigner</td>\n",
       "    </tr>\n",
       "  </tbody>\n",
       "</table>\n",
       "</div>"
      ],
      "text/plain": [
       "   serial number account_info  duration_month credit_history  \\\n",
       "0              1      unknown            24.0            A34   \n",
       "1              2        0-199            18.0            A34   \n",
       "2              3           <0             NaN            A34   \n",
       "3              4      unknown            12.0            A34   \n",
       "4              5        0-199            12.0            A32   \n",
       "\n",
       "               purpose savings_account employment_st  poi personal_status  \\\n",
       "0            education            <100           A75    4             A93   \n",
       "1             radio/TV            <100           A75    3             A92   \n",
       "2  furniture/equipment            <100           A75    1             A92   \n",
       "3             radio/TV         unknown           A75    4             A93   \n",
       "4              new_car         unknown           A71    1             A92   \n",
       "\n",
       "  gurantors  resident_since property_type   age installment_type housing_type  \\\n",
       "0      A101             4.0          A124  54.0             A143         A153   \n",
       "1      A103             4.0          A121  48.0             A141         A151   \n",
       "2      A101             4.0          A122  24.0             A143         A152   \n",
       "3      A101             NaN          A123  35.0             A143         A152   \n",
       "4      A101             2.0          A121  24.0             A143         A151   \n",
       "\n",
       "   credits_no job_type  liables telephone  foreigner  \n",
       "0           2     A173        2        no  foreigner  \n",
       "1           2     A172        1       yes  foreigner  \n",
       "2           2     A173        1        no  foreigner  \n",
       "3           2     A173        1        no  foreigner  \n",
       "4           1     A171        1        no  foreigner  "
      ]
     },
     "execution_count": 4,
     "metadata": {},
     "output_type": "execute_result"
    }
   ],
   "source": [
    "test.head()"
   ]
  },
  {
   "cell_type": "code",
   "execution_count": 6,
   "id": "e5eedd88-c2a6-4e94-80d2-b6b434df93c8",
   "metadata": {},
   "outputs": [
    {
     "name": "stdout",
     "output_type": "stream",
     "text": [
      "<class 'pandas.core.frame.DataFrame'>\n",
      "Index: 777 entries, 0 to 799\n",
      "Data columns (total 21 columns):\n",
      " #   Column            Non-Null Count  Dtype  \n",
      "---  ------            --------------  -----  \n",
      " 0   serial number     777 non-null    int64  \n",
      " 1   account_info      777 non-null    object \n",
      " 2   duration_month    750 non-null    float64\n",
      " 3   credit_history    777 non-null    object \n",
      " 4   purpose           777 non-null    object \n",
      " 5   credit_amount     777 non-null    int64  \n",
      " 6   savings_account   777 non-null    object \n",
      " 7   employment_st     777 non-null    object \n",
      " 8   poi               777 non-null    int64  \n",
      " 9   personal_status   777 non-null    object \n",
      " 10  gurantors         777 non-null    object \n",
      " 11  resident_since    764 non-null    float64\n",
      " 12  property_type     777 non-null    object \n",
      " 13  age               744 non-null    float64\n",
      " 14  installment_type  777 non-null    object \n",
      " 15  housing_type      777 non-null    object \n",
      " 16  credits_no        777 non-null    int64  \n",
      " 17  job_type          777 non-null    object \n",
      " 18  liables           777 non-null    int64  \n",
      " 19  telephone         777 non-null    object \n",
      " 20  foreigner         777 non-null    object \n",
      "dtypes: float64(3), int64(5), object(13)\n",
      "memory usage: 133.5+ KB\n"
     ]
    }
   ],
   "source": [
    "df.info()"
   ]
  },
  {
   "cell_type": "code",
   "execution_count": 8,
   "id": "c853e248-3430-4ab9-8e2a-6c3dccb5c9de",
   "metadata": {},
   "outputs": [
    {
     "data": {
      "text/html": [
       "<div>\n",
       "<style scoped>\n",
       "    .dataframe tbody tr th:only-of-type {\n",
       "        vertical-align: middle;\n",
       "    }\n",
       "\n",
       "    .dataframe tbody tr th {\n",
       "        vertical-align: top;\n",
       "    }\n",
       "\n",
       "    .dataframe thead th {\n",
       "        text-align: right;\n",
       "    }\n",
       "</style>\n",
       "<table border=\"1\" class=\"dataframe\">\n",
       "  <thead>\n",
       "    <tr style=\"text-align: right;\">\n",
       "      <th></th>\n",
       "      <th>duration_month</th>\n",
       "      <th>credit_amount</th>\n",
       "      <th>poi</th>\n",
       "      <th>resident_since</th>\n",
       "      <th>age</th>\n",
       "      <th>credits_no</th>\n",
       "      <th>liables</th>\n",
       "    </tr>\n",
       "  </thead>\n",
       "  <tbody>\n",
       "    <tr>\n",
       "      <th>count</th>\n",
       "      <td>772.000000</td>\n",
       "      <td>800.000000</td>\n",
       "      <td>800.000000</td>\n",
       "      <td>787.000000</td>\n",
       "      <td>767.000000</td>\n",
       "      <td>800.000000</td>\n",
       "      <td>800.000000</td>\n",
       "    </tr>\n",
       "    <tr>\n",
       "      <th>mean</th>\n",
       "      <td>20.645078</td>\n",
       "      <td>3190.976250</td>\n",
       "      <td>2.966250</td>\n",
       "      <td>2.822109</td>\n",
       "      <td>35.423729</td>\n",
       "      <td>1.396250</td>\n",
       "      <td>1.147500</td>\n",
       "    </tr>\n",
       "    <tr>\n",
       "      <th>std</th>\n",
       "      <td>12.374860</td>\n",
       "      <td>2732.671789</td>\n",
       "      <td>1.128806</td>\n",
       "      <td>1.105788</td>\n",
       "      <td>11.714471</td>\n",
       "      <td>0.569773</td>\n",
       "      <td>0.354825</td>\n",
       "    </tr>\n",
       "    <tr>\n",
       "      <th>min</th>\n",
       "      <td>4.000000</td>\n",
       "      <td>250.000000</td>\n",
       "      <td>1.000000</td>\n",
       "      <td>1.000000</td>\n",
       "      <td>19.000000</td>\n",
       "      <td>1.000000</td>\n",
       "      <td>1.000000</td>\n",
       "    </tr>\n",
       "    <tr>\n",
       "      <th>25%</th>\n",
       "      <td>12.000000</td>\n",
       "      <td>1342.250000</td>\n",
       "      <td>2.000000</td>\n",
       "      <td>2.000000</td>\n",
       "      <td>26.000000</td>\n",
       "      <td>1.000000</td>\n",
       "      <td>1.000000</td>\n",
       "    </tr>\n",
       "    <tr>\n",
       "      <th>50%</th>\n",
       "      <td>18.000000</td>\n",
       "      <td>2281.500000</td>\n",
       "      <td>3.000000</td>\n",
       "      <td>3.000000</td>\n",
       "      <td>32.000000</td>\n",
       "      <td>1.000000</td>\n",
       "      <td>1.000000</td>\n",
       "    </tr>\n",
       "    <tr>\n",
       "      <th>75%</th>\n",
       "      <td>24.000000</td>\n",
       "      <td>3914.250000</td>\n",
       "      <td>4.000000</td>\n",
       "      <td>4.000000</td>\n",
       "      <td>42.000000</td>\n",
       "      <td>2.000000</td>\n",
       "      <td>1.000000</td>\n",
       "    </tr>\n",
       "    <tr>\n",
       "      <th>max</th>\n",
       "      <td>72.000000</td>\n",
       "      <td>15945.000000</td>\n",
       "      <td>4.000000</td>\n",
       "      <td>4.000000</td>\n",
       "      <td>75.000000</td>\n",
       "      <td>4.000000</td>\n",
       "      <td>2.000000</td>\n",
       "    </tr>\n",
       "  </tbody>\n",
       "</table>\n",
       "</div>"
      ],
      "text/plain": [
       "       duration_month  credit_amount         poi  resident_since         age  \\\n",
       "count      772.000000     800.000000  800.000000      787.000000  767.000000   \n",
       "mean        20.645078    3190.976250    2.966250        2.822109   35.423729   \n",
       "std         12.374860    2732.671789    1.128806        1.105788   11.714471   \n",
       "min          4.000000     250.000000    1.000000        1.000000   19.000000   \n",
       "25%         12.000000    1342.250000    2.000000        2.000000   26.000000   \n",
       "50%         18.000000    2281.500000    3.000000        3.000000   32.000000   \n",
       "75%         24.000000    3914.250000    4.000000        4.000000   42.000000   \n",
       "max         72.000000   15945.000000    4.000000        4.000000   75.000000   \n",
       "\n",
       "       credits_no     liables  \n",
       "count  800.000000  800.000000  \n",
       "mean     1.396250    1.147500  \n",
       "std      0.569773    0.354825  \n",
       "min      1.000000    1.000000  \n",
       "25%      1.000000    1.000000  \n",
       "50%      1.000000    1.000000  \n",
       "75%      2.000000    1.000000  \n",
       "max      4.000000    2.000000  "
      ]
     },
     "execution_count": 8,
     "metadata": {},
     "output_type": "execute_result"
    }
   ],
   "source": [
    "df.describe()"
   ]
  },
  {
   "cell_type": "code",
   "execution_count": 4,
   "id": "bd77c2a8-e259-4079-b828-c89b696ac0d4",
   "metadata": {},
   "outputs": [
    {
     "data": {
      "text/plain": [
       "foreigner\n",
       "foreigner    745\n",
       "?             28\n",
       "resident      27\n",
       "Name: count, dtype: int64"
      ]
     },
     "execution_count": 4,
     "metadata": {},
     "output_type": "execute_result"
    }
   ],
   "source": [
    "df.drop('serial number', axis =1, inplace = True)\n",
    "test.drop('serial number', axis =1, inplace = True)\n",
    "df.foreigner.value_counts()"
   ]
  },
  {
   "cell_type": "markdown",
   "id": "249c7daa-a6f0-4d47-b123-5ddeb74136b3",
   "metadata": {
    "jp-MarkdownHeadingCollapsed": true
   },
   "source": [
    "## Handling Missing Value"
   ]
  },
  {
   "cell_type": "code",
   "execution_count": 7,
   "id": "25166a5c-e03a-4f16-8149-c9db0bc6c01e",
   "metadata": {},
   "outputs": [
    {
     "name": "stdout",
     "output_type": "stream",
     "text": [
      "Column 'account_info' contains '?' values.\n",
      "Column 'gurantors' contains '?' values.\n",
      "Column 'foreigner' contains '?' values.\n",
      "Column 'account_info' contains '?' values.\n",
      "Column 'gurantors' contains '?' values.\n",
      "Column 'foreigner' contains '?' values.\n"
     ]
    }
   ],
   "source": [
    "for col in df.columns:\n",
    "    if ('?' in df[col].values):\n",
    "        print(f\"Column '{col}' contains '?' values.\")\n",
    "for col in test.columns:\n",
    "    if ('?' in test[col].values):\n",
    "        print(f\"Column '{col}' contains '?' values.\")"
   ]
  },
  {
   "cell_type": "code",
   "execution_count": 5,
   "id": "3642984a-0103-4927-8037-44abdc4c02f5",
   "metadata": {},
   "outputs": [
    {
     "name": "stdout",
     "output_type": "stream",
     "text": [
      "telephone\n",
      "no     458\n",
      "yes    319\n",
      "Name: count, dtype: int64\n"
     ]
    }
   ],
   "source": [
    "print(df['telephone'].value_counts())\n"
   ]
  },
  {
   "cell_type": "code",
   "execution_count": 3,
   "id": "019463e4-b7a3-4027-8411-9bcb15face6c",
   "metadata": {},
   "outputs": [],
   "source": [
    "if '?' in df['telephone'].values:\n",
    "    df = df[df['telephone'] != '?']\n"
   ]
  },
  {
   "cell_type": "markdown",
   "id": "193135ee-54b9-4bd2-90ff-3cd37e617d3b",
   "metadata": {},
   "source": [
    "#Create a new DataFrame containing records with '?' value\n",
    "df_with_question_mark = df[df.eq('?').any(axis=1)]"
   ]
  },
  {
   "cell_type": "code",
   "execution_count": 7,
   "id": "1570bc91-f258-452f-94f3-69a0e7e6eee2",
   "metadata": {},
   "outputs": [
    {
     "name": "stdout",
     "output_type": "stream",
     "text": [
      "['account_info']\n",
      "account_info\n",
      "unknown    21\n",
      "<0         13\n",
      "?          13\n",
      "0-199      11\n",
      ">=200       4\n",
      "Name: count, dtype: int64\n",
      "\n",
      "['gurantors']\n",
      "gurantors\n",
      "A101    36\n",
      "?       24\n",
      "A103     2\n",
      "Name: count, dtype: int64\n",
      "\n",
      "['foreigner']\n",
      "foreigner\n",
      "foreigner    32\n",
      "?            28\n",
      "resident      2\n",
      "Name: count, dtype: int64\n",
      "\n"
     ]
    }
   ],
   "source": [
    "for col in df_with_question_mark.columns:\n",
    "    if ('?' in df_with_question_mark[col].values):\n",
    "        print([col])\n",
    "        print(df_with_question_mark[col].value_counts())\n",
    "        print()"
   ]
  },
  {
   "cell_type": "code",
   "execution_count": 8,
   "id": "9bcf9938-5338-4865-b02a-aa9124a38224",
   "metadata": {},
   "outputs": [
    {
     "data": {
      "text/plain": [
       "(24, 20)"
      ]
     },
     "execution_count": 8,
     "metadata": {},
     "output_type": "execute_result"
    }
   ],
   "source": [
    "test_with_question_mark = test[test.eq('?').any(axis=1)]\n",
    "test_with_question_mark.shape"
   ]
  },
  {
   "cell_type": "code",
   "execution_count": 9,
   "id": "042f50bd-2b24-4a83-ae2a-0c6cd782233a",
   "metadata": {},
   "outputs": [
    {
     "name": "stdout",
     "output_type": "stream",
     "text": [
      "['account_info']\n",
      "account_info\n",
      "?          9\n",
      "<0         7\n",
      "unknown    4\n",
      "0-199      3\n",
      ">=200      1\n",
      "Name: count, dtype: int64\n",
      "\n",
      "['gurantors']\n",
      "gurantors\n",
      "A101    17\n",
      "?        7\n",
      "Name: count, dtype: int64\n",
      "\n",
      "['foreigner']\n",
      "foreigner\n",
      "foreigner    15\n",
      "?             9\n",
      "Name: count, dtype: int64\n",
      "\n"
     ]
    }
   ],
   "source": [
    "for col in test_with_question_mark.columns:\n",
    "    if ('?' in test_with_question_mark[col].values):\n",
    "        print([col])\n",
    "        print(test_with_question_mark[col].value_counts())\n",
    "        print()"
   ]
  },
  {
   "cell_type": "code",
   "execution_count": 3,
   "id": "b5610a28-cd19-45a9-88ac-51a1653e09ca",
   "metadata": {},
   "outputs": [],
   "source": [
    "df.replace('?', np.nan, inplace=True)\n",
    "test.replace('?',np.nan, inplace = True)"
   ]
  },
  {
   "cell_type": "code",
   "execution_count": 6,
   "id": "deeffee4-715d-4551-adbb-a651b9c78aef",
   "metadata": {},
   "outputs": [
    {
     "data": {
      "text/plain": [
       "serial number       0.000\n",
       "account_info        1.750\n",
       "duration_month      0.000\n",
       "credit_history      0.000\n",
       "purpose             0.000\n",
       "credit_amount       0.000\n",
       "savings_account     0.000\n",
       "employment_st       0.000\n",
       "poi                 0.000\n",
       "personal_status     0.000\n",
       "gurantors           3.000\n",
       "resident_since      1.625\n",
       "property_type       0.000\n",
       "age                 0.000\n",
       "installment_type    0.000\n",
       "housing_type        0.000\n",
       "credits_no          0.000\n",
       "job_type            0.000\n",
       "liables             0.000\n",
       "telephone           2.875\n",
       "foreigner           3.500\n",
       "dtype: float64"
      ]
     },
     "execution_count": 6,
     "metadata": {},
     "output_type": "execute_result"
    }
   ],
   "source": [
    "df.isnull().sum()/800 * 100\n"
   ]
  },
  {
   "cell_type": "code",
   "execution_count": 7,
   "id": "53a36e9c-7a31-4160-99be-d51a40376aa8",
   "metadata": {},
   "outputs": [
    {
     "data": {
      "text/plain": [
       "account_info         9\n",
       "duration_month      10\n",
       "credit_history       0\n",
       "purpose              0\n",
       "savings_account      0\n",
       "employment_st        0\n",
       "poi                  0\n",
       "personal_status      0\n",
       "gurantors            7\n",
       "resident_since       6\n",
       "property_type        0\n",
       "age                  6\n",
       "installment_type     0\n",
       "housing_type         0\n",
       "credits_no           0\n",
       "job_type             0\n",
       "liables              0\n",
       "telephone            0\n",
       "foreigner            9\n",
       "dtype: int64"
      ]
     },
     "execution_count": 7,
     "metadata": {},
     "output_type": "execute_result"
    }
   ],
   "source": [
    "test.isnull().sum()"
   ]
  },
  {
   "cell_type": "code",
   "execution_count": 15,
   "id": "db483a62-42e0-44f8-abe5-71c89b28d1ee",
   "metadata": {},
   "outputs": [
    {
     "data": {
      "image/png": "[encoded data removed]",
      "text/plain": [
       "<Figure size 1000x600 with 1 Axes>"
      ]
     },
     "metadata": {},
     "output_type": "display_data"
    }
   ],
   "source": [
    "plt.figure(figsize=(10, 6))\n",
    "df['duration_month'].hist(bins=20, color='blue', alpha=0.7)\n",
    "plt.title('Histogram of duration_month')\n",
    "plt.xlabel('Values')\n",
    "plt.ylabel('Frequency')\n",
    "plt.grid(False)\n",
    "plt.show()"
   ]
  },
  {
   "cell_type": "code",
   "execution_count": 13,
   "id": "11fae4de-0f2f-43dc-8aba-5df24f7808b2",
   "metadata": {},
   "outputs": [
    {
     "data": {
      "image/png": "[encoded data removed]",
      "text/plain": [
       "<Figure size 1000x600 with 1 Axes>"
      ]
     },
     "metadata": {},
     "output_type": "display_data"
    }
   ],
   "source": [
    "plt.figure(figsize=(10, 6))\n",
    "df['age'].hist(bins=20, color='blue', alpha=0.7)\n",
    "plt.title('Histogram of age')\n",
    "plt.xlabel('Values')\n",
    "plt.ylabel('Frequency')\n",
    "plt.\n",
    "plt.grid(False)\n",
    "plt.show()"
   ]
  },
  {
   "cell_type": "code",
   "execution_count": 4,
   "id": "9ffea0e1-13fd-4a9b-b268-0c6e83c914f5",
   "metadata": {},
   "outputs": [],
   "source": [
    "df['duration_month'].fillna(df['duration_month'].median(),inplace=True)\n",
    "df['age'].fillna(df['age'].median(),inplace=True)\n"
   ]
  },
  {
   "cell_type": "code",
   "execution_count": 5,
   "id": "551f6ed2-4331-4cf4-8e41-9c30e5777d12",
   "metadata": {},
   "outputs": [],
   "source": [
    "test['duration_month'].fillna(test['duration_month'].median(),inplace=True)\n",
    "test['age'].fillna(test['age'].median(),inplace=True)"
   ]
  },
  {
   "cell_type": "code",
   "execution_count": 6,
   "id": "b8ff9c89-7edd-40db-9f73-57a8b9536981",
   "metadata": {},
   "outputs": [],
   "source": [
    "df.fillna(df.mode().iloc[0], inplace=True)\n"
   ]
  },
  {
   "cell_type": "code",
   "execution_count": 7,
   "id": "d92c5179-778c-4b87-a0f4-e8cc407fedd3",
   "metadata": {},
   "outputs": [
    {
     "name": "stdout",
     "output_type": "stream",
     "text": [
      "<class 'pandas.core.frame.DataFrame'>\n",
      "RangeIndex: 800 entries, 0 to 799\n",
      "Data columns (total 21 columns):\n",
      " #   Column            Non-Null Count  Dtype  \n",
      "---  ------            --------------  -----  \n",
      " 0   serial number     800 non-null    int64  \n",
      " 1   account_info      800 non-null    object \n",
      " 2   duration_month    800 non-null    float64\n",
      " 3   credit_history    800 non-null    object \n",
      " 4   purpose           800 non-null    object \n",
      " 5   credit_amount     800 non-null    int64  \n",
      " 6   savings_account   800 non-null    object \n",
      " 7   employment_st     800 non-null    object \n",
      " 8   poi               800 non-null    int64  \n",
      " 9   personal_status   800 non-null    object \n",
      " 10  gurantors         800 non-null    object \n",
      " 11  resident_since    800 non-null    float64\n",
      " 12  property_type     800 non-null    object \n",
      " 13  age               800 non-null    float64\n",
      " 14  installment_type  800 non-null    object \n",
      " 15  housing_type      800 non-null    object \n",
      " 16  credits_no        800 non-null    int64  \n",
      " 17  job_type          800 non-null    object \n",
      " 18  liables           800 non-null    int64  \n",
      " 19  telephone         800 non-null    object \n",
      " 20  foreigner         800 non-null    object \n",
      "dtypes: float64(3), int64(5), object(13)\n",
      "memory usage: 131.4+ KB\n"
     ]
    }
   ],
   "source": [
    "df.info()"
   ]
  },
  {
   "cell_type": "code",
   "execution_count": 8,
   "id": "40e5d2c9-c4c2-4ab1-8cbc-cd11f1517388",
   "metadata": {},
   "outputs": [],
   "source": [
    "test.fillna(test.mode().iloc[0], inplace=True)"
   ]
  },
  {
   "cell_type": "code",
   "execution_count": 9,
   "id": "886ca302-23a2-4f1a-8725-c96537161298",
   "metadata": {},
   "outputs": [
    {
     "name": "stdout",
     "output_type": "stream",
     "text": [
      "<class 'pandas.core.frame.DataFrame'>\n",
      "RangeIndex: 200 entries, 0 to 199\n",
      "Data columns (total 20 columns):\n",
      " #   Column            Non-Null Count  Dtype  \n",
      "---  ------            --------------  -----  \n",
      " 0   serial number     200 non-null    int64  \n",
      " 1   account_info      200 non-null    object \n",
      " 2   duration_month    200 non-null    float64\n",
      " 3   credit_history    200 non-null    object \n",
      " 4   purpose           200 non-null    object \n",
      " 5   savings_account   200 non-null    object \n",
      " 6   employment_st     200 non-null    object \n",
      " 7   poi               200 non-null    int64  \n",
      " 8   personal_status   200 non-null    object \n",
      " 9   gurantors         200 non-null    object \n",
      " 10  resident_since    200 non-null    float64\n",
      " 11  property_type     200 non-null    object \n",
      " 12  age               200 non-null    float64\n",
      " 13  installment_type  200 non-null    object \n",
      " 14  housing_type      200 non-null    object \n",
      " 15  credits_no        200 non-null    int64  \n",
      " 16  job_type          200 non-null    object \n",
      " 17  liables           200 non-null    int64  \n",
      " 18  telephone         200 non-null    object \n",
      " 19  foreigner         200 non-null    object \n",
      "dtypes: float64(3), int64(4), object(13)\n",
      "memory usage: 31.4+ KB\n"
     ]
    }
   ],
   "source": [
    "test.info()"
   ]
  },
  {
   "cell_type": "code",
   "execution_count": 27,
   "id": "b432f8c8-9208-4d6b-88ef-fa5c201561bb",
   "metadata": {},
   "outputs": [
    {
     "data": {
      "text/plain": [
       "serial number       0\n",
       "account_info        0\n",
       "duration_month      0\n",
       "credit_history      0\n",
       "purpose             0\n",
       "credit_amount       0\n",
       "savings_account     0\n",
       "employment_st       0\n",
       "poi                 0\n",
       "personal_status     0\n",
       "gurantors           0\n",
       "resident_since      0\n",
       "property_type       0\n",
       "age                 0\n",
       "installment_type    0\n",
       "housing_type        0\n",
       "credits_no          0\n",
       "job_type            0\n",
       "liables             0\n",
       "telephone           0\n",
       "foreigner           0\n",
       "dtype: int64"
      ]
     },
     "execution_count": 27,
     "metadata": {},
     "output_type": "execute_result"
    }
   ],
   "source": [
    "df.isnull().sum()"
   ]
  },
  {
   "cell_type": "code",
   "execution_count": null,
   "id": "6f3d49c0-dea9-42cd-acae-c3df4b0edce6",
   "metadata": {},
   "outputs": [],
   "source": []
  },
  {
   "cell_type": "code",
   "execution_count": null,
   "id": "c7b6c878-3a8b-47cc-8917-9f43820068cf",
   "metadata": {},
   "outputs": [],
   "source": []
  },
  {
   "cell_type": "code",
   "execution_count": null,
   "id": "6795134d-4a1b-4d55-9b13-c430e3c37feb",
   "metadata": {},
   "outputs": [],
   "source": []
  },
  {
   "cell_type": "code",
   "execution_count": null,
   "id": "de959941-e179-489d-9ee2-97875fb11fdd",
   "metadata": {},
   "outputs": [],
   "source": []
  },
  {
   "cell_type": "code",
   "execution_count": 20,
   "id": "8aaad4a0-9458-45ae-94cd-52cb9c0bdef7",
   "metadata": {},
   "outputs": [
    {
     "name": "stdout",
     "output_type": "stream",
     "text": [
      "['account_info']\n",
      "account_info\n",
      "unknown    84\n",
      "<0         65\n",
      "0-199      43\n",
      ">=200       8\n",
      "Name: count, dtype: int64\n",
      "\n",
      "['gurantors']\n",
      "gurantors\n",
      "A101    179\n",
      "A102     11\n",
      "A103     10\n",
      "Name: count, dtype: int64\n",
      "\n",
      "['foreigner']\n",
      "foreigner\n",
      "foreigner    190\n",
      "resident      10\n",
      "Name: count, dtype: int64\n",
      "\n"
     ]
    }
   ],
   "source": [
    "for col in test_with_question_mark.columns:\n",
    "    if ('?' in test_with_question_mark[col].values):\n",
    "        print([col])\n",
    "        print(test[col].value_counts())\n",
    "        print()"
   ]
  },
  {
   "cell_type": "code",
   "execution_count": 23,
   "id": "a57cf406-fc22-44c1-a3a1-bc3ccdc143f0",
   "metadata": {
    "scrolled": true
   },
   "outputs": [
    {
     "ename": "NameError",
     "evalue": "name 'test_with_question_mark' is not defined",
     "output_type": "error",
     "traceback": [
      "\u001b[1;31m---------------------------------------------------------------------------\u001b[0m",
      "\u001b[1;31mNameError\u001b[0m                                 Traceback (most recent call last)",
      "Cell \u001b[1;32mIn[23], line 1\u001b[0m\n\u001b[1;32m----> 1\u001b[0m \u001b[38;5;28;01mfor\u001b[39;00m col \u001b[38;5;129;01min\u001b[39;00m \u001b[43mtest_with_question_mark\u001b[49m\u001b[38;5;241m.\u001b[39mcolumns:\n\u001b[0;32m      2\u001b[0m     \u001b[38;5;28;01mif\u001b[39;00m (\u001b[38;5;124m'\u001b[39m\u001b[38;5;124m?\u001b[39m\u001b[38;5;124m'\u001b[39m \u001b[38;5;129;01min\u001b[39;00m test_with_question_mark[col]\u001b[38;5;241m.\u001b[39mvalues):\n\u001b[0;32m      3\u001b[0m         \u001b[38;5;28mprint\u001b[39m([col])\n",
      "\u001b[1;31mNameError\u001b[0m: name 'test_with_question_mark' is not defined"
     ]
    }
   ],
   "source": [
    "for col in test_with_question_mark.columns:\n",
    "    if ('?' in test_with_question_mark[col].values):\n",
    "        print([col])\n",
    "        print(test_check[col].value_counts())\n",
    "        print()"
   ]
  },
  {
   "cell_type": "code",
   "execution_count": 26,
   "id": "c2b65a54-c5c1-4bcc-90ad-5255e2cc3d80",
   "metadata": {},
   "outputs": [
    {
     "name": "stdout",
     "output_type": "stream",
     "text": [
      "account_info\n",
      "account_info\n",
      "unknown    75\n",
      "<0         65\n",
      "0-199      43\n",
      "?           9\n",
      ">=200       8\n",
      "Name: count, dtype: int64\n",
      "account_info\n",
      "unknown    84\n",
      "<0         65\n",
      "0-199      43\n",
      ">=200       8\n",
      "Name: count, dtype: int64\n",
      "account_info\n",
      "unknown    310\n",
      "0-199      226\n",
      "<0         209\n",
      ">=200       55\n",
      "Name: count, dtype: int64\n",
      "account_info\n",
      "unknown    296\n",
      "0-199      226\n",
      "<0         209\n",
      ">=200       55\n",
      "?           14\n",
      "Name: count, dtype: int64\n",
      "gurantors\n",
      "gurantors\n",
      "A101    172\n",
      "A102     11\n",
      "A103     10\n",
      "?         7\n",
      "Name: count, dtype: int64\n",
      "gurantors\n",
      "A101    179\n",
      "A102     11\n",
      "A103     10\n",
      "Name: count, dtype: int64\n",
      "gurantors\n",
      "A101    728\n",
      "A103     42\n",
      "A102     30\n",
      "Name: count, dtype: int64\n",
      "gurantors\n",
      "A101    704\n",
      "A103     42\n",
      "A102     30\n",
      "?        24\n",
      "Name: count, dtype: int64\n",
      "telephone\n",
      "telephone\n",
      "no     115\n",
      "yes     85\n",
      "Name: count, dtype: int64\n",
      "telephone\n",
      "no     115\n",
      "yes     85\n",
      "Name: count, dtype: int64\n",
      "telephone\n",
      "no     481\n",
      "yes    319\n",
      "Name: count, dtype: int64\n",
      "telephone\n",
      "no     458\n",
      "yes    319\n",
      "?       23\n",
      "Name: count, dtype: int64\n",
      "foreigner\n",
      "foreigner\n",
      "foreigner    181\n",
      "resident      10\n",
      "?              9\n",
      "Name: count, dtype: int64\n",
      "foreigner\n",
      "foreigner    190\n",
      "resident      10\n",
      "Name: count, dtype: int64\n",
      "foreigner\n",
      "foreigner    773\n",
      "resident      27\n",
      "Name: count, dtype: int64\n",
      "foreigner\n",
      "foreigner    745\n",
      "?             28\n",
      "resident      27\n",
      "Name: count, dtype: int64\n"
     ]
    }
   ],
   "source": [
    "for col in df_check:\n",
    "    if ('?' in df_check[col].values):\n",
    "        print(col)\n",
    "        print(test_check[col].value_counts())\n",
    "        print(test[col].value_counts())\n",
    "        print(df[col].value_counts())\n",
    "        print(df_check[col].value_counts())"
   ]
  },
  {
   "cell_type": "code",
   "execution_count": 28,
   "id": "3a626cf3-4a2a-4ace-8cbd-6b5463bdea11",
   "metadata": {},
   "outputs": [
    {
     "name": "stdout",
     "output_type": "stream",
     "text": [
      "['account_info']\n",
      "account_info\n",
      "unknown    299\n",
      "0-199      221\n",
      "<0         204\n",
      ">=200       53\n",
      "Name: count, dtype: int64\n",
      "\n",
      "As per observation all the value of null value went into the unknown, A101, and foreigner value after mode imputation\n",
      "['gurantors']\n",
      "gurantors\n",
      "A101    708\n",
      "A103     40\n",
      "A102     29\n",
      "Name: count, dtype: int64\n",
      "\n",
      "As per observation all the value of null value went into the unknown, A101, and foreigner value after mode imputation\n",
      "['foreigner']\n",
      "foreigner\n",
      "foreigner    750\n",
      "resident      27\n",
      "Name: count, dtype: int64\n",
      "\n",
      "As per observation all the value of null value went into the unknown, A101, and foreigner value after mode imputation\n"
     ]
    }
   ],
   "source": [
    "for col in df_with_question_mark.columns:\n",
    "    if ('?' in df_with_question_mark[col].values):\n",
    "        print([col])\n",
    "        print(df[col].value_counts())\n",
    "        print()\n",
    "        print('As per observation all the value of null value went into the unknown, A101, and foreigner value after mode imputation')"
   ]
  },
  {
   "cell_type": "code",
   "execution_count": 24,
   "id": "f3b21f4d-3218-4776-a2bf-fe7ddd0e3c41",
   "metadata": {},
   "outputs": [
    {
     "name": "stdout",
     "output_type": "stream",
     "text": [
      "['account_info']\n",
      "account_info\n",
      "unknown    21\n",
      "<0         13\n",
      "?          13\n",
      "0-199      11\n",
      ">=200       4\n",
      "Name: count, dtype: int64\n",
      "\n",
      "['gurantors']\n",
      "gurantors\n",
      "A101    36\n",
      "?       24\n",
      "A103     2\n",
      "Name: count, dtype: int64\n",
      "\n",
      "['foreigner']\n",
      "foreigner\n",
      "foreigner    32\n",
      "?            28\n",
      "resident      2\n",
      "Name: count, dtype: int64\n",
      "\n"
     ]
    }
   ],
   "source": [
    "for col in df_with_question_mark.columns:\n",
    "    if ('?' in df_with_question_mark[col].values):\n",
    "        print([col])\n",
    "        print(df_with_question_mark[col].value_counts())\n",
    "        print()"
   ]
  },
  {
   "cell_type": "code",
   "execution_count": 25,
   "id": "6b23d31b-04ef-4c43-ab58-e8a86c083118",
   "metadata": {},
   "outputs": [],
   "source": [
    "if '?' in df_check['telephone'].values:\n",
    "    df_check = df_check[df_check['telephone'] != '?']\n"
   ]
  },
  {
   "cell_type": "code",
   "execution_count": 26,
   "id": "a7180b30-52a2-4260-bc97-0a90aad58668",
   "metadata": {},
   "outputs": [
    {
     "name": "stdout",
     "output_type": "stream",
     "text": [
      "['account_info']\n",
      "account_info\n",
      "unknown    286\n",
      "0-199      221\n",
      "<0         204\n",
      ">=200       53\n",
      "?           13\n",
      "Name: count, dtype: int64\n",
      "\n",
      "['gurantors']\n",
      "gurantors\n",
      "A101    684\n",
      "A103     40\n",
      "A102     29\n",
      "?        24\n",
      "Name: count, dtype: int64\n",
      "\n",
      "['foreigner']\n",
      "foreigner\n",
      "foreigner    722\n",
      "?             28\n",
      "resident      27\n",
      "Name: count, dtype: int64\n",
      "\n"
     ]
    }
   ],
   "source": [
    "for col in df_with_question_mark.columns:\n",
    "    if ('?' in df_with_question_mark[col].values):\n",
    "        print([col])\n",
    "        print(df_check[col].value_counts())\n",
    "        print()"
   ]
  },
  {
   "cell_type": "markdown",
   "id": "53fe1a38-6e96-4cec-be87-9c3a8d8ccac7",
   "metadata": {
    "jp-MarkdownHeadingCollapsed": true
   },
   "source": [
    "## Converting Categorical to Numerical value"
   ]
  },
  {
   "cell_type": "markdown",
   "id": "c2ba716a-6201-4bcf-a37b-2ac06e692a70",
   "metadata": {},
   "source": [
    "colname = df.columns\n",
    "for col in colname:\n",
    "    print(df[col].value_counts())"
   ]
  },
  {
   "cell_type": "code",
   "execution_count": 10,
   "id": "d9ea19da-41b6-4aae-94b2-1b483da4b7c7",
   "metadata": {},
   "outputs": [],
   "source": [
    "df['account_info'] = df['account_info'].apply(lambda x: 1 if x == '0-199' else (0 if x == '<0' else (2 if x == '>=200' else(3 if x == 'unknown' else x))))\n",
    "df['savings_account'] = df['savings_account'].apply(lambda x: 1 if x == '<100' else (2 if x == '100-499' else (3 if x == '500-999' else (4 if x == '>=1000' else (5 if x == 'unknown' else x)))))\n",
    "df['credit_history'] = df['credit_history'].replace({'A30':0,'A31': 1, 'A32': 2, 'A33': 3, 'A34': 4})\n",
    "df['employment_st'] = df['employment_st'].replace({'A71': 1, 'A72': 2, 'A73': 3, 'A74': 4,'A75':5})\n",
    "df['personal_status'] = df['personal_status'].replace({'A91': 1, 'A92': 2, 'A93': 3, 'A94': 4,'A95':5})\n",
    "df['gurantors'] = df['gurantors'].replace({'A101': 1, 'A102': 2, 'A103': 3})\n",
    "df['property_type'] = df['property_type'].replace({'A121': 1, 'A122': 2, 'A123': 3, 'A124': 4})\n",
    "df['installment_type'] = df['installment_type'].replace({'A141': 1, 'A142': 2, 'A143': 3})\n",
    "df['housing_type'] = df['housing_type'].replace({'A151': 1, 'A152': 2, 'A153': 3})\n",
    "df['job_type'] = df['job_type'].replace({'A171': 1, 'A172': 2, 'A173': 3,'A174':4})\n",
    "df['foreigner'] = df['foreigner'].replace({'foreigner':1, 'resident':2})\n",
    "df['telephone'] = df['telephone'].replace({'yes':0,'no':1})"
   ]
  },
  {
   "cell_type": "code",
   "execution_count": 11,
   "id": "3a0d8f87-d0f6-420d-9a9b-c0d83d7ecb0b",
   "metadata": {},
   "outputs": [
    {
     "name": "stdout",
     "output_type": "stream",
     "text": [
      "Purpose Mapping:\n",
      "business: 0\n",
      "domestic_appliances: 1\n",
      "education: 2\n",
      "furniture/equipment: 3\n",
      "new_car: 4\n",
      "old_car: 5\n",
      "other: 6\n",
      "radio/TV: 7\n",
      "repairing: 8\n",
      "upskilling: 9\n"
     ]
    }
   ],
   "source": [
    "from sklearn.preprocessing import LabelEncoder\n",
    "le = LabelEncoder()\n",
    "df['purpose'] = le.fit_transform(df['purpose'])\n",
    "print(\"Purpose Mapping:\")\n",
    "for original, encoded in zip(le.classes_, le.transform(le.classes_)):\n",
    "    print(f\"{original}: {encoded}\")\n"
   ]
  },
  {
   "cell_type": "code",
   "execution_count": 12,
   "id": "725e5db0-20b5-4df4-a575-b1fb60207e2b",
   "metadata": {},
   "outputs": [
    {
     "data": {
      "text/html": [
       "<div>\n",
       "<style scoped>\n",
       "    .dataframe tbody tr th:only-of-type {\n",
       "        vertical-align: middle;\n",
       "    }\n",
       "\n",
       "    .dataframe tbody tr th {\n",
       "        vertical-align: top;\n",
       "    }\n",
       "\n",
       "    .dataframe thead th {\n",
       "        text-align: right;\n",
       "    }\n",
       "</style>\n",
       "<table border=\"1\" class=\"dataframe\">\n",
       "  <thead>\n",
       "    <tr style=\"text-align: right;\">\n",
       "      <th></th>\n",
       "      <th>serial number</th>\n",
       "      <th>account_info</th>\n",
       "      <th>duration_month</th>\n",
       "      <th>credit_history</th>\n",
       "      <th>purpose</th>\n",
       "      <th>credit_amount</th>\n",
       "      <th>savings_account</th>\n",
       "      <th>employment_st</th>\n",
       "      <th>poi</th>\n",
       "      <th>personal_status</th>\n",
       "      <th>...</th>\n",
       "      <th>resident_since</th>\n",
       "      <th>property_type</th>\n",
       "      <th>age</th>\n",
       "      <th>installment_type</th>\n",
       "      <th>housing_type</th>\n",
       "      <th>credits_no</th>\n",
       "      <th>job_type</th>\n",
       "      <th>liables</th>\n",
       "      <th>telephone</th>\n",
       "      <th>foreigner</th>\n",
       "    </tr>\n",
       "  </thead>\n",
       "  <tbody>\n",
       "    <tr>\n",
       "      <th>0</th>\n",
       "      <td>1</td>\n",
       "      <td>0</td>\n",
       "      <td>6.0</td>\n",
       "      <td>4</td>\n",
       "      <td>7</td>\n",
       "      <td>1169</td>\n",
       "      <td>5</td>\n",
       "      <td>5</td>\n",
       "      <td>4</td>\n",
       "      <td>3</td>\n",
       "      <td>...</td>\n",
       "      <td>4.0</td>\n",
       "      <td>1</td>\n",
       "      <td>67.0</td>\n",
       "      <td>3</td>\n",
       "      <td>2</td>\n",
       "      <td>2</td>\n",
       "      <td>3</td>\n",
       "      <td>1</td>\n",
       "      <td>0</td>\n",
       "      <td>1</td>\n",
       "    </tr>\n",
       "    <tr>\n",
       "      <th>1</th>\n",
       "      <td>2</td>\n",
       "      <td>1</td>\n",
       "      <td>48.0</td>\n",
       "      <td>2</td>\n",
       "      <td>7</td>\n",
       "      <td>5951</td>\n",
       "      <td>1</td>\n",
       "      <td>3</td>\n",
       "      <td>2</td>\n",
       "      <td>2</td>\n",
       "      <td>...</td>\n",
       "      <td>2.0</td>\n",
       "      <td>1</td>\n",
       "      <td>22.0</td>\n",
       "      <td>3</td>\n",
       "      <td>2</td>\n",
       "      <td>1</td>\n",
       "      <td>3</td>\n",
       "      <td>1</td>\n",
       "      <td>1</td>\n",
       "      <td>1</td>\n",
       "    </tr>\n",
       "    <tr>\n",
       "      <th>2</th>\n",
       "      <td>3</td>\n",
       "      <td>3</td>\n",
       "      <td>12.0</td>\n",
       "      <td>4</td>\n",
       "      <td>2</td>\n",
       "      <td>2096</td>\n",
       "      <td>1</td>\n",
       "      <td>4</td>\n",
       "      <td>2</td>\n",
       "      <td>3</td>\n",
       "      <td>...</td>\n",
       "      <td>3.0</td>\n",
       "      <td>1</td>\n",
       "      <td>49.0</td>\n",
       "      <td>3</td>\n",
       "      <td>2</td>\n",
       "      <td>1</td>\n",
       "      <td>2</td>\n",
       "      <td>2</td>\n",
       "      <td>1</td>\n",
       "      <td>1</td>\n",
       "    </tr>\n",
       "    <tr>\n",
       "      <th>3</th>\n",
       "      <td>4</td>\n",
       "      <td>0</td>\n",
       "      <td>42.0</td>\n",
       "      <td>2</td>\n",
       "      <td>3</td>\n",
       "      <td>7882</td>\n",
       "      <td>1</td>\n",
       "      <td>4</td>\n",
       "      <td>2</td>\n",
       "      <td>3</td>\n",
       "      <td>...</td>\n",
       "      <td>4.0</td>\n",
       "      <td>2</td>\n",
       "      <td>45.0</td>\n",
       "      <td>3</td>\n",
       "      <td>3</td>\n",
       "      <td>1</td>\n",
       "      <td>3</td>\n",
       "      <td>2</td>\n",
       "      <td>1</td>\n",
       "      <td>1</td>\n",
       "    </tr>\n",
       "    <tr>\n",
       "      <th>4</th>\n",
       "      <td>5</td>\n",
       "      <td>0</td>\n",
       "      <td>24.0</td>\n",
       "      <td>3</td>\n",
       "      <td>4</td>\n",
       "      <td>4870</td>\n",
       "      <td>1</td>\n",
       "      <td>3</td>\n",
       "      <td>3</td>\n",
       "      <td>3</td>\n",
       "      <td>...</td>\n",
       "      <td>4.0</td>\n",
       "      <td>4</td>\n",
       "      <td>53.0</td>\n",
       "      <td>3</td>\n",
       "      <td>3</td>\n",
       "      <td>2</td>\n",
       "      <td>3</td>\n",
       "      <td>2</td>\n",
       "      <td>1</td>\n",
       "      <td>1</td>\n",
       "    </tr>\n",
       "  </tbody>\n",
       "</table>\n",
       "<p>5 rows × 21 columns</p>\n",
       "</div>"
      ],
      "text/plain": [
       "   serial number  account_info  duration_month  credit_history  purpose  \\\n",
       "0              1             0             6.0               4        7   \n",
       "1              2             1            48.0               2        7   \n",
       "2              3             3            12.0               4        2   \n",
       "3              4             0            42.0               2        3   \n",
       "4              5             0            24.0               3        4   \n",
       "\n",
       "   credit_amount  savings_account  employment_st  poi  personal_status  ...  \\\n",
       "0           1169                5              5    4                3  ...   \n",
       "1           5951                1              3    2                2  ...   \n",
       "2           2096                1              4    2                3  ...   \n",
       "3           7882                1              4    2                3  ...   \n",
       "4           4870                1              3    3                3  ...   \n",
       "\n",
       "   resident_since  property_type   age  installment_type  housing_type  \\\n",
       "0             4.0              1  67.0                 3             2   \n",
       "1             2.0              1  22.0                 3             2   \n",
       "2             3.0              1  49.0                 3             2   \n",
       "3             4.0              2  45.0                 3             3   \n",
       "4             4.0              4  53.0                 3             3   \n",
       "\n",
       "   credits_no  job_type  liables  telephone  foreigner  \n",
       "0           2         3        1          0          1  \n",
       "1           1         3        1          1          1  \n",
       "2           1         2        2          1          1  \n",
       "3           1         3        2          1          1  \n",
       "4           2         3        2          1          1  \n",
       "\n",
       "[5 rows x 21 columns]"
      ]
     },
     "execution_count": 12,
     "metadata": {},
     "output_type": "execute_result"
    }
   ],
   "source": [
    "df.head()"
   ]
  },
  {
   "cell_type": "code",
   "execution_count": 13,
   "id": "199d5d3c-437b-4468-8f1d-a2c117bc9dad",
   "metadata": {},
   "outputs": [],
   "source": [
    "test['account_info'] = test['account_info'].apply(lambda x: 1 if x == '0-199' else (0 if x == '<0' else (2 if x == '>=200' else(3 if x == 'unknown' else x))))\n",
    "test['savings_account'] = test['savings_account'].apply(lambda x: 1 if x == '<100' else (2 if x == '100-499' else (3 if x == '500-999' else (4 if x == '>=1000' else (5 if x == 'unknown' else x)))))\n",
    "test['credit_history'] = test['credit_history'].replace({'A30':0,'A31': 1, 'A32': 2, 'A33': 3, 'A34': 4})\n",
    "test['employment_st'] = test['employment_st'].replace({'A71': 1, 'A72': 2, 'A73': 3, 'A74': 4,'A75':5})\n",
    "test['personal_status'] = test['personal_status'].replace({'A91': 1, 'A92': 2, 'A93': 3, 'A94': 4,'A95':5})\n",
    "test['gurantors'] = test['gurantors'].replace({'A101': 1, 'A102': 2, 'A103': 3})\n",
    "test['property_type'] = test['property_type'].replace({'A121': 1, 'A122': 2, 'A123': 3, 'A124': 4})\n",
    "test['installment_type'] = test['installment_type'].replace({'A141': 1, 'A142': 2, 'A143': 3})\n",
    "test['housing_type'] = test['housing_type'].replace({'A151': 1, 'A152': 2, 'A153': 3})\n",
    "test['job_type'] = test['job_type'].replace({'A171': 1, 'A172': 2, 'A173': 3,'A174':4})\n",
    "test['foreigner'] = test['foreigner'].replace({'foreigner':1, 'resident':2})\n",
    "test['telephone'] = test['telephone'].replace({'yes':0,'no':1})\n"
   ]
  },
  {
   "cell_type": "code",
   "execution_count": 14,
   "id": "6c4260e8-53d9-4735-bf3a-59f550a5e79d",
   "metadata": {},
   "outputs": [
    {
     "name": "stdout",
     "output_type": "stream",
     "text": [
      "Purpose Mapping:\n",
      "business: 0\n",
      "domestic_appliances: 1\n",
      "education: 2\n",
      "furniture/equipment: 3\n",
      "new_car: 4\n",
      "old_car: 5\n",
      "other: 6\n",
      "radio/TV: 7\n",
      "repairing: 8\n",
      "upskilling: 9\n"
     ]
    }
   ],
   "source": [
    "from sklearn.preprocessing import LabelEncoder\n",
    "le = LabelEncoder()\n",
    "test['purpose'] = le.fit_transform(test['purpose'])\n",
    "print(\"Purpose Mapping:\")\n",
    "for original, encoded in zip(le.classes_, le.transform(le.classes_)):\n",
    "    print(f\"{original}: {encoded}\")"
   ]
  },
  {
   "cell_type": "code",
   "execution_count": 15,
   "id": "b2a79bbd-c5b1-4f30-b092-85a6cc9d5200",
   "metadata": {},
   "outputs": [
    {
     "name": "stdout",
     "output_type": "stream",
     "text": [
      "<class 'pandas.core.frame.DataFrame'>\n",
      "RangeIndex: 200 entries, 0 to 199\n",
      "Data columns (total 20 columns):\n",
      " #   Column            Non-Null Count  Dtype  \n",
      "---  ------            --------------  -----  \n",
      " 0   serial number     200 non-null    int64  \n",
      " 1   account_info      200 non-null    int64  \n",
      " 2   duration_month    200 non-null    float64\n",
      " 3   credit_history    200 non-null    int64  \n",
      " 4   purpose           200 non-null    int32  \n",
      " 5   savings_account   200 non-null    int64  \n",
      " 6   employment_st     200 non-null    int64  \n",
      " 7   poi               200 non-null    int64  \n",
      " 8   personal_status   200 non-null    int64  \n",
      " 9   gurantors         200 non-null    int64  \n",
      " 10  resident_since    200 non-null    float64\n",
      " 11  property_type     200 non-null    int64  \n",
      " 12  age               200 non-null    float64\n",
      " 13  installment_type  200 non-null    int64  \n",
      " 14  housing_type      200 non-null    int64  \n",
      " 15  credits_no        200 non-null    int64  \n",
      " 16  job_type          200 non-null    int64  \n",
      " 17  liables           200 non-null    int64  \n",
      " 18  telephone         200 non-null    int64  \n",
      " 19  foreigner         200 non-null    int64  \n",
      "dtypes: float64(3), int32(1), int64(16)\n",
      "memory usage: 30.6 KB\n"
     ]
    }
   ],
   "source": [
    "test.info()"
   ]
  },
  {
   "cell_type": "code",
   "execution_count": null,
   "id": "a49fee38-4703-4d2b-a829-cc7183d757cc",
   "metadata": {},
   "outputs": [],
   "source": []
  },
  {
   "cell_type": "markdown",
   "id": "e95571c0-422b-4830-b930-7987cde1b440",
   "metadata": {
    "jp-MarkdownHeadingCollapsed": true
   },
   "source": [
    "## Creating X and Y variable for df"
   ]
  },
  {
   "cell_type": "code",
   "execution_count": 37,
   "id": "d026d744-9444-4799-8850-cda8639abed7",
   "metadata": {},
   "outputs": [
    {
     "name": "stdout",
     "output_type": "stream",
     "text": [
      "Index(['account_info', 'duration_month', 'credit_history', 'purpose',\n",
      "       'credit_amount', 'savings_account', 'employment_st', 'poi',\n",
      "       'personal_status', 'gurantors', 'resident_since', 'property_type',\n",
      "       'age', 'installment_type', 'housing_type', 'credits_no', 'job_type',\n",
      "       'liables', 'telephone', 'foreigner'],\n",
      "      dtype='object')\n"
     ]
    }
   ],
   "source": [
    "print(df.columns)"
   ]
  },
  {
   "cell_type": "code",
   "execution_count": 16,
   "id": "ec8e3e2f-aade-400e-bdd9-4652738eb681",
   "metadata": {},
   "outputs": [],
   "source": [
    "X_train = df[['account_info', 'duration_month', 'credit_history', 'purpose',\n",
    "        'savings_account', 'employment_st', 'poi',\n",
    "       'personal_status', 'gurantors', 'resident_since', 'property_type',\n",
    "       'age', 'installment_type', 'housing_type', 'credits_no', 'job_type',\n",
    "       'liables', 'telephone', 'foreigner']]\n",
    "Y_train =  df['credit_amount']"
   ]
  },
  {
   "cell_type": "code",
   "execution_count": 17,
   "id": "4cf12ba7-0847-4ba3-9fc7-7c51be36a46b",
   "metadata": {},
   "outputs": [],
   "source": [
    "X_test = test[['account_info', 'duration_month', 'credit_history', 'purpose',\n",
    "        'savings_account', 'employment_st', 'poi',\n",
    "       'personal_status', 'gurantors', 'resident_since', 'property_type',\n",
    "       'age', 'installment_type', 'housing_type', 'credits_no', 'job_type',\n",
    "       'liables', 'telephone', 'foreigner']]"
   ]
  },
  {
   "cell_type": "markdown",
   "id": "720b815d-9d01-4f8e-8800-927891027ed5",
   "metadata": {
    "jp-MarkdownHeadingCollapsed": true
   },
   "source": [
    "## Scaling the data"
   ]
  },
  {
   "cell_type": "code",
   "execution_count": 18,
   "id": "820e6f10-4a7f-4b90-b89d-37f305d5583b",
   "metadata": {},
   "outputs": [],
   "source": [
    "scale = StandardScaler()\n",
    "X_train_scale = scale.fit_transform(X_train)\n",
    "X_test_scale = scale.transform(X_test)"
   ]
  },
  {
   "cell_type": "code",
   "execution_count": 19,
   "id": "7960a2b1-da11-4ab5-8033-8a11023a46a3",
   "metadata": {},
   "outputs": [
    {
     "name": "stdout",
     "output_type": "stream",
     "text": [
      "[[ 1.14199685  0.28355309  1.33983761 ...  2.40409256  0.81437194\n",
      "  -0.18689261]\n",
      " [-0.46928618 -0.20994032  1.33983761 ... -0.41595736 -1.22794014\n",
      "  -0.18689261]\n",
      " [-1.2749277  -0.20994032  1.33983761 ... -0.41595736  0.81437194\n",
      "  -0.18689261]\n",
      " ...\n",
      " [ 1.14199685 -0.70343373 -0.50503346 ... -0.41595736  0.81437194\n",
      "  -0.18689261]\n",
      " [-1.2749277   2.01078001 -0.50503346 ... -0.41595736 -1.22794014\n",
      "  -0.18689261]\n",
      " [-0.46928618  2.01078001  1.33983761 ... -0.41595736  0.81437194\n",
      "  -0.18689261]]\n"
     ]
    }
   ],
   "source": [
    "print(X_test_scale)"
   ]
  },
  {
   "cell_type": "markdown",
   "id": "66a7e14e-e9b9-470b-89d1-eb6eff0d82f3",
   "metadata": {},
   "source": [
    "## Gradient Boosting Regressor"
   ]
  },
  {
   "cell_type": "code",
   "execution_count": 20,
   "id": "3b9bc27b-fe62-4012-a6c0-cd926c763893",
   "metadata": {},
   "outputs": [
    {
     "name": "stdout",
     "output_type": "stream",
     "text": [
      "[ 2115.02659805  2585.3670515   3291.24071107  1227.90454443\n",
      "  3844.84986155  6951.8090182    656.86940418  1102.14821459\n",
      " 11219.22374671  1613.33633252   726.24818197   622.07561939\n",
      "  4771.12937486  5919.80749768  5136.12095465  5656.36757553\n",
      "  1853.90449181  2290.26271268  8351.58556789  1211.30071498\n",
      "  1317.62112243  1351.1179235   5136.88485346   667.82043655\n",
      "  3786.68570412  2070.21754313  3526.88407592  2959.04321171\n",
      "  4891.39504805  5059.0828451   2279.27816871  2026.52785964\n",
      "  8834.72219597  4084.09703232  1935.53396779  1233.56130113\n",
      "  1139.29633071  1911.62658219  2333.46749349  1483.0913997\n",
      "  3721.12637498  2729.14861066  1686.59648781  2203.35158875\n",
      "  2209.12628054  4306.9973631   3708.69597444  1550.59265566\n",
      "  1490.38653152  1280.98430412  1941.1827629   3751.78987799\n",
      "  2273.66407022  2040.37257948  6784.58480825  1611.27752947\n",
      "   479.71052228  3080.46780779  2273.86298105  2462.47459072\n",
      "  2364.71602213  2044.32538599  2103.11762812  3966.55694123\n",
      "  1888.73574856  1754.53619325  1827.92139477  2459.91513436\n",
      "  3944.9014058    987.64560501  6175.94382003  2377.7701349\n",
      "  2643.76828385  1558.79639297  3055.04853385  1086.72401734\n",
      "  6385.28063206  3638.38985667  3522.40630952  5172.40753712\n",
      "  4718.36922355  5385.19865936  3557.18565491   852.12662533\n",
      "  3170.33322935   675.66252136  3216.21786891  9406.69218654\n",
      "  5510.88263647  4103.61811349  5466.54643566  1664.32059353\n",
      "  1319.13093612  5195.88493717  3101.41261722  7175.42017296\n",
      "  2823.29721297  1660.39548781  3228.1296716   3362.38105549\n",
      "  3434.03915234  3179.27743514  7001.85754524   781.85024057\n",
      "  2531.58802012  3235.81668247  3420.62239501  6071.14416662\n",
      "  3672.11349626  2470.32316698  3266.07415769  3399.60860435\n",
      "  5313.14200533  4146.43555468  2677.73153073 10245.03833445\n",
      "  3009.97206256  4633.97777054  3860.88900134  4477.45115318\n",
      "  2260.4481142   7268.60739198  1104.63433486  2839.39825532\n",
      "  3304.90330776  1694.759673    1876.89496099  6164.61220784\n",
      "  4149.23774286  1431.74444069  2542.87739513   992.62904045\n",
      "  1596.95823912  1390.45547826  1126.81640612  4791.18205739\n",
      "  1176.890014     942.56973009  6559.37005607  5477.11094031\n",
      "  4304.49556376  1578.43380604  3121.44410768  1711.51968669\n",
      "  1036.69389909  8358.15350462  3375.17435987  3065.11967997\n",
      "  1867.90204833  3848.27337359  2556.17016872  7324.53604635\n",
      "  3261.67005162  5462.25985303  1376.10492242  3940.49739618\n",
      "  3312.94804645  1771.56846472  4348.40942045  2936.74175453\n",
      "  1244.38996636  3448.7679034   2825.19543877  3206.2706345\n",
      "   759.95018947  3321.74360801  3632.26295933  2777.58711172\n",
      "  7624.68033974  4608.1784936   1110.6332563   4221.56742141\n",
      "  4416.98049546  5885.73255962  3860.75195263  2813.09080988\n",
      "  1641.89936603  1950.17304043  1909.90418762  2101.1312768\n",
      "  5024.05857293  8732.9120142   4429.31089719  5441.14381772\n",
      "  3669.55917307  1854.68897742  6220.1810858   1769.80596144\n",
      "  5495.83824034  1979.94823923  2504.46077088  1076.95649072\n",
      "  2690.63593734  5875.2462137   1827.22435466  1181.14661393\n",
      "  5261.45305805  1213.0869437   5818.64837734  5372.28342523]\n"
     ]
    }
   ],
   "source": [
    "from sklearn.linear_model import Lasso\n",
    "from sklearn.ensemble import  GradientBoostingRegressor\n",
    "lm_Lasso= GradientBoostingRegressor(n_estimators=100, alpha=0.99,  validation_fraction=0.2,learning_rate=0.1,\n",
    "                                    max_depth = 3, min_samples_split = 2)\n",
    "lm_Lasso.fit(X_train_scale, Y_train)\n",
    "\n",
    "\n",
    "# make a prediction\n",
    "y_pred_lasso = lm_Lasso.predict(X_test_scale)\n",
    "\n",
    "print(y_pred_lasso)"
   ]
  },
  {
   "cell_type": "code",
   "execution_count": 21,
   "id": "ab9871a5-9c43-48a2-a4a2-f3026ccde690",
   "metadata": {},
   "outputs": [
    {
     "data": {
      "text/plain": [
       "0.7889462089373716"
      ]
     },
     "execution_count": 21,
     "metadata": {},
     "output_type": "execute_result"
    }
   ],
   "source": [
    "lm_Lasso.score(X_train_scale,Y_train)"
   ]
  },
  {
   "cell_type": "code",
   "execution_count": 22,
   "id": "516bc9bf-a195-4670-9191-ad010ed0f10d",
   "metadata": {},
   "outputs": [
    {
     "name": "stdout",
     "output_type": "stream",
     "text": [
      "[ 2115.  2585.  3291.  1228.  3845.  6952.   657.  1102. 11219.  1613.\n",
      "   726.   622.  4771.  5920.  5136.  5656.  1854.  2290.  8352.  1211.\n",
      "  1318.  1351.  5137.   668.  3787.  2070.  3527.  2959.  4891.  5059.\n",
      "  2279.  2027.  8835.  4084.  1936.  1234.  1139.  1912.  2333.  1483.\n",
      "  3721.  2729.  1687.  2203.  2209.  4307.  3709.  1551.  1490.  1281.\n",
      "  1941.  3752.  2274.  2040.  6785.  1611.   480.  3080.  2274.  2462.\n",
      "  2365.  2044.  2103.  3967.  1889.  1755.  1828.  2460.  3945.   988.\n",
      "  6176.  2378.  2644.  1559.  3055.  1087.  6385.  3638.  3522.  5172.\n",
      "  4718.  5385.  3557.   852.  3170.   676.  3216.  9407.  5511.  4104.\n",
      "  5467.  1664.  1319.  5196.  3101.  7175.  2823.  1660.  3228.  3362.\n",
      "  3434.  3179.  7002.   782.  2532.  3236.  3421.  6071.  3672.  2470.\n",
      "  3266.  3400.  5313.  4146.  2678. 10245.  3010.  4634.  3861.  4477.\n",
      "  2260.  7269.  1105.  2839.  3305.  1695.  1877.  6165.  4149.  1432.\n",
      "  2543.   993.  1597.  1390.  1127.  4791.  1177.   943.  6559.  5477.\n",
      "  4304.  1578.  3121.  1712.  1037.  8358.  3375.  3065.  1868.  3848.\n",
      "  2556.  7325.  3262.  5462.  1376.  3940.  3313.  1772.  4348.  2937.\n",
      "  1244.  3449.  2825.  3206.   760.  3322.  3632.  2778.  7625.  4608.\n",
      "  1111.  4222.  4417.  5886.  3861.  2813.  1642.  1950.  1910.  2101.\n",
      "  5024.  8733.  4429.  5441.  3670.  1855.  6220.  1770.  5496.  1980.\n",
      "  2504.  1077.  2691.  5875.  1827.  1181.  5261.  1213.  5819.  5372.]\n"
     ]
    }
   ],
   "source": [
    "Y_pred_rounded = np.round(y_pred_lasso)\n",
    "\n",
    "print(Y_pred_rounded)"
   ]
  },
  {
   "cell_type": "code",
   "execution_count": 29,
   "id": "fa46c2c9-812c-4bd3-8cd5-56bf7021b46e",
   "metadata": {},
   "outputs": [
    {
     "name": "stdout",
     "output_type": "stream",
     "text": [
      "Best parameters: {'learning_rate': 0.1, 'max_depth': 3, 'min_samples_split': 2, 'n_estimators': 100}\n"
     ]
    }
   ],
   "source": [
    "from sklearn.model_selection import GridSearchCV\n",
    "\n",
    "# Define the parameter grid\n",
    "param_grid = {\n",
    "    'n_estimators': [50, 100, 150,200,300],\n",
    "    'max_depth': [3, 5, 7],\n",
    "    'min_samples_split': [2, 5, 10],\n",
    "    'learning_rate': [0.1, 0.01, 0.001]\n",
    "    \n",
    "}\n",
    "\n",
    "# Initialize the Gradient Boosting Regressor\n",
    "model_GB = GradientBoostingRegressor(random_state=42)\n",
    "\n",
    "# Initialize GridSearchCV\n",
    "grid_search = GridSearchCV(estimator=model_GB, param_grid=param_grid, \n",
    "                           scoring='neg_mean_squared_error', cv=5, n_jobs=-1)\n",
    "\n",
    "# Fit the data to GridSearchCV\n",
    "grid_search.fit(X_train_scale, Y_train)\n",
    "\n",
    "# Print the best parameters\n",
    "print(\"Best parameters:\", grid_search.best_params_)\n",
    "\n",
    "# Make predictions on the test data using the best model\n",
    "best_model_GB = grid_search.best_estimator_\n",
    "Y_pred_GB_tuned = best_model_GB.predict(X_test_scale)\n"
   ]
  },
  {
   "cell_type": "code",
   "execution_count": 28,
   "id": "19475de6-0cad-469a-b21c-ffd31fc11ad2",
   "metadata": {},
   "outputs": [],
   "source": [
    "# Create a DataFrame with predicted values\n",
    "predicted_df = pd.DataFrame({'serial number': test['serial number'], 'credit_amount': Y_pred_rounded})\n",
    "\n",
    "# Save the DataFrame to an Excel file\n",
    "predicted_df.to_csv('output33.csv', index=False)"
   ]
  },
  {
   "cell_type": "code",
   "execution_count": 47,
   "id": "3cfecdb5-60a6-4317-9660-dba7d16e3478",
   "metadata": {},
   "outputs": [
    {
     "name": "stdout",
     "output_type": "stream",
     "text": [
      "<class 'pandas.core.frame.DataFrame'>\n",
      "RangeIndex: 200 entries, 0 to 199\n",
      "Data columns (total 2 columns):\n",
      " #   Column         Non-Null Count  Dtype  \n",
      "---  ------         --------------  -----  \n",
      " 0   serial number  200 non-null    int64  \n",
      " 1   credit_amount  200 non-null    float64\n",
      "dtypes: float64(1), int64(1)\n",
      "memory usage: 3.2 KB\n"
     ]
    }
   ],
   "source": [
    "predicted_df.info()"
   ]
  },
  {
   "cell_type": "code",
   "execution_count": 24,
   "id": "e5df5469-06bb-49aa-acbd-bc4149d85946",
   "metadata": {},
   "outputs": [
    {
     "name": "stdout",
     "output_type": "stream",
     "text": [
      "[ 2115.02659805  2585.3670515   3291.24071107  1227.90454443\n",
      "  3844.84986155  6951.8090182    656.86940418  1102.14821459\n",
      " 11219.22374671  1613.33633252   726.24818197   622.07561939\n",
      "  4771.12937486  5919.80749768  5136.12095465  5656.36757553\n",
      "  1853.90449181  2290.26271268  8351.58556789  1211.30071498\n",
      "  1317.62112243  1351.1179235   5136.88485346   667.82043655\n",
      "  3786.68570412  2070.21754313  3526.88407592  2959.04321171\n",
      "  4891.39504805  5059.0828451   2279.27816871  2026.52785964\n",
      "  8834.72219597  4084.09703232  1935.53396779  1233.56130113\n",
      "  1139.29633071  1911.62658219  2333.46749349  1483.0913997\n",
      "  3721.12637498  2729.14861066  1686.59648781  2203.35158875\n",
      "  2209.12628054  4306.9973631   3708.69597444  1550.59265566\n",
      "  1490.38653152  1280.98430412  1941.1827629   3751.78987799\n",
      "  2273.66407022  2040.37257948  6784.58480825  1611.27752947\n",
      "   479.71052228  3080.46780779  2273.86298105  2462.47459072\n",
      "  2364.71602213  2044.32538599  2103.11762812  3966.55694123\n",
      "  1888.73574856  1754.53619325  1827.92139477  2459.91513436\n",
      "  3944.9014058    987.64560501  6175.94382003  2377.7701349\n",
      "  2643.76828385  1558.79639297  3055.04853385  1086.72401734\n",
      "  6385.28063206  3638.38985667  3522.40630952  5172.40753712\n",
      "  4718.36922355  5385.19865936  3557.18565491   852.12662533\n",
      "  3170.33322935   675.66252136  3216.21786891  9406.69218654\n",
      "  5510.88263647  4103.61811349  5691.76216999  1664.32059353\n",
      "  1319.13093612  5195.88493717  3101.41261722  7175.42017296\n",
      "  2823.29721297  1660.39548781  3228.1296716   3362.38105549\n",
      "  3434.03915234  3179.27743514  7001.85754524   781.85024057\n",
      "  2531.58802012  3235.81668247  3420.62239501  6071.14416662\n",
      "  3672.11349626  2470.32316698  3266.07415769  3399.60860435\n",
      "  5313.14200533  4360.09722182  2677.73153073 10245.03833445\n",
      "  3009.97206256  4633.97777054  3860.88900134  4477.45115318\n",
      "  2260.4481142   7268.60739198  1104.63433486  2839.39825532\n",
      "  3304.90330776  1694.759673    1876.89496099  5939.3964735\n",
      "  4149.23774286  1431.74444069  2542.87739513   992.62904045\n",
      "  1596.95823912  1390.45547826  1126.81640612  4791.18205739\n",
      "  1176.890014     942.56973009  6559.37005607  5477.11094031\n",
      "  4304.49556376  1578.43380604  3121.44410768  1711.51968669\n",
      "  1036.69389909  8358.15350462  3375.17435987  3065.11967997\n",
      "  1867.90204833  3848.27337359  2556.17016872  7324.53604635\n",
      "  3261.67005162  5462.25985303  1376.10492242  3940.49739618\n",
      "  3312.94804645  1771.56846472  4348.40942045  2936.74175453\n",
      "  1244.38996636  3448.7679034   2825.19543877  3206.2706345\n",
      "   759.95018947  3321.74360801  3632.26295933  2777.58711172\n",
      "  7624.68033974  4608.1784936   1110.6332563   4221.56742141\n",
      "  4416.98049546  5885.73255962  3860.75195263  2813.09080988\n",
      "  1641.89936603  1950.17304043  1909.90418762  2101.1312768\n",
      "  5024.05857293  8732.9120142   4429.31089719  5441.14381772\n",
      "  3669.55917307  1854.68897742  6220.1810858   1769.80596144\n",
      "  5495.83824034  1979.94823923  2504.46077088  1076.95649072\n",
      "  2690.63593734  5875.2462137   1827.22435466  1181.14661393\n",
      "  5261.45305805  1213.0869437   5818.64837734  5372.28342523]\n"
     ]
    }
   ],
   "source": [
    "print(Y_pred_GB_tuned)"
   ]
  },
  {
   "cell_type": "code",
   "execution_count": 26,
   "id": "9fa3e9ee-e95f-4b8f-a1ee-ba0020d05c74",
   "metadata": {},
   "outputs": [
    {
     "name": "stdout",
     "output_type": "stream",
     "text": [
      "[ 2115.  2585.  3291.  1228.  3845.  6952.   657.  1102. 11219.  1613.\n",
      "   726.   622.  4771.  5920.  5136.  5656.  1854.  2290.  8352.  1211.\n",
      "  1318.  1351.  5137.   668.  3787.  2070.  3527.  2959.  4891.  5059.\n",
      "  2279.  2027.  8835.  4084.  1936.  1234.  1139.  1912.  2333.  1483.\n",
      "  3721.  2729.  1687.  2203.  2209.  4307.  3709.  1551.  1490.  1281.\n",
      "  1941.  3752.  2274.  2040.  6785.  1611.   480.  3080.  2274.  2462.\n",
      "  2365.  2044.  2103.  3967.  1889.  1755.  1828.  2460.  3945.   988.\n",
      "  6176.  2378.  2644.  1559.  3055.  1087.  6385.  3638.  3522.  5172.\n",
      "  4718.  5385.  3557.   852.  3170.   676.  3216.  9407.  5511.  4104.\n",
      "  5692.  1664.  1319.  5196.  3101.  7175.  2823.  1660.  3228.  3362.\n",
      "  3434.  3179.  7002.   782.  2532.  3236.  3421.  6071.  3672.  2470.\n",
      "  3266.  3400.  5313.  4360.  2678. 10245.  3010.  4634.  3861.  4477.\n",
      "  2260.  7269.  1105.  2839.  3305.  1695.  1877.  5939.  4149.  1432.\n",
      "  2543.   993.  1597.  1390.  1127.  4791.  1177.   943.  6559.  5477.\n",
      "  4304.  1578.  3121.  1712.  1037.  8358.  3375.  3065.  1868.  3848.\n",
      "  2556.  7325.  3262.  5462.  1376.  3940.  3313.  1772.  4348.  2937.\n",
      "  1244.  3449.  2825.  3206.   760.  3322.  3632.  2778.  7625.  4608.\n",
      "  1111.  4222.  4417.  5886.  3861.  2813.  1642.  1950.  1910.  2101.\n",
      "  5024.  8733.  4429.  5441.  3670.  1855.  6220.  1770.  5496.  1980.\n",
      "  2504.  1077.  2691.  5875.  1827.  1181.  5261.  1213.  5819.  5372.]\n"
     ]
    }
   ],
   "source": [
    "Y_pred_rounded = np.round(Y_pred_GB_tuned)\n",
    "\n",
    "print(Y_pred_rounded)"
   ]
  },
  {
   "cell_type": "code",
   "execution_count": null,
   "id": "21f1e7ae-a654-40f9-b486-77a9e43d5571",
   "metadata": {},
   "outputs": [],
   "source": []
  }
 ],
 "metadata": {
  "kernelspec": {
   "display_name": "Python 3 (ipykernel)",
   "language": "python",
   "name": "python3"
  },
  "language_info": {
   "codemirror_mode": {
    "name": "ipython",
    "version": 3
   },
   "file_extension": ".py",
   "mimetype": "text/x-python",
   "name": "python",
   "nbconvert_exporter": "python",
   "pygments_lexer": "ipython3",
   "version": "3.10.13"
  }
 },
 "nbformat": 4,
 "nbformat_minor": 5
}
